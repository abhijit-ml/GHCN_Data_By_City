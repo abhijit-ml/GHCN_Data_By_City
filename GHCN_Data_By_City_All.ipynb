{
  "nbformat": 4,
  "nbformat_minor": 0,
  "metadata": {
    "kernelspec": {
      "language": "python",
      "display_name": "Python 3",
      "name": "python3"
    },
    "language_info": {
      "pygments_lexer": "ipython3",
      "nbconvert_exporter": "python",
      "version": "3.6.4",
      "file_extension": ".py",
      "codemirror_mode": {
        "name": "ipython",
        "version": 3
      },
      "name": "python",
      "mimetype": "text/x-python"
    },
    "colab": {
      "name": "GHCN_Data_By_City_All.ipynb",
      "provenance": [],
      "collapsed_sections": []
    }
  },
  "cells": [
    {
      "cell_type": "code",
      "metadata": {
        "id": "TLWkKmxH79Rs"
      },
      "source": [
        "!pip install haversine"
      ],
      "execution_count": null,
      "outputs": []
    },
    {
      "cell_type": "code",
      "metadata": {
        "_uuid": "8f2839f25d086af736a60e9eeb907d3b93b6e0e5",
        "_cell_guid": "b1076dfc-b9ad-4769-8c92-a6c4dae69d19",
        "trusted": true,
        "id": "lvxorXph7niX"
      },
      "source": [
        "from tqdm import tqdm\n",
        "import pandas as pd\n",
        "import plotly.express as px\n",
        "import csv\n",
        "import haversine\n",
        "\n",
        "tqdm.pandas()"
      ],
      "execution_count": null,
      "outputs": []
    },
    {
      "cell_type": "markdown",
      "metadata": {
        "id": "eHxpeVj37nim"
      },
      "source": [
        "# I. Get files from simplimaps and NOAA"
      ]
    },
    {
      "cell_type": "markdown",
      "metadata": {
        "id": "iXKMvpfQ7nio"
      },
      "source": [
        "## 1. List of all NOAA GHCN stations\n",
        "This file is in ASCII format so we will convert it into a DataFrame and also save it for future use."
      ]
    },
    {
      "cell_type": "code",
      "metadata": {
        "_uuid": "d629ff2d2480ee46fbb7e2d37f6b5fab8052498a",
        "_cell_guid": "79c7e3d0-c299-4dcb-8224-4455121ee9b0",
        "trusted": true,
        "id": "JBOcn6Y-7niq"
      },
      "source": [
        "!wget ftp://ftp.ncdc.noaa.gov/pub/data/ghcn/daily/ghcnd-stations.txt"
      ],
      "execution_count": null,
      "outputs": []
    },
    {
      "cell_type": "code",
      "metadata": {
        "trusted": true,
        "id": "Q0iiZP-N7niy"
      },
      "source": [
        "colspecs = [(0,11), (12,20), (21,30), (31,37), (38,40), (41,71), (72,75), (76,79), (80,85)]\n",
        "stations = pd.read_fwf('ghcnd-stations.txt', colspecs=colspecs, header=None, index_col=None)\n",
        "stations.columns = [\"ID\", \"LATITUDE\", \"LONGITUDE\", \"ELEVATION\", \"STATE\", \"NAME\", \"GSNFLAG\", \"HCNFLAG\", \"WMOID\"]\n",
        "stations.reset_index(inplace=True)\n",
        "stations[\"COORDS\"] = list(zip(stations.LATITUDE, stations.LONGITUDE)) #Savinf coordinates as a tuple will be useful later\n",
        "stations.to_csv('ghcnd-stations.csv', quoting=csv.QUOTE_NONNUMERIC)"
      ],
      "execution_count": null,
      "outputs": []
    },
    {
      "cell_type": "markdown",
      "metadata": {
        "id": "ioUQaqXf7ni7"
      },
      "source": [
        "## 2. GHCN Daily Weather data files\n",
        "These files are available as zipped archives for each year. The zipped archives contain a CSV file without any header. "
      ]
    },
    {
      "cell_type": "code",
      "metadata": {
        "trusted": true,
        "id": "RFLLjXBg7ni-"
      },
      "source": [
        "!wget ftp://ftp.ncdc.noaa.gov/pub/data/ghcn/daily/by_year/2020.csv.gz\n",
        "!wget ftp://ftp.ncdc.noaa.gov/pub/data/ghcn/daily/by_year/2019.csv.gz\n",
        "!wget ftp://ftp.ncdc.noaa.gov/pub/data/ghcn/daily/by_year/2018.csv.gz"
      ],
      "execution_count": null,
      "outputs": []
    },
    {
      "cell_type": "code",
      "metadata": {
        "trusted": true,
        "id": "k2sz2_m37njL"
      },
      "source": [
        "!wget ftp://ftp.ncdc.noaa.gov/pub/data/ghcn/daily/by_year/2017.csv.gz\n",
        "!wget ftp://ftp.ncdc.noaa.gov/pub/data/ghcn/daily/by_year/2016.csv.gz\n",
        "!wget ftp://ftp.ncdc.noaa.gov/pub/data/ghcn/daily/by_year/2015.csv.gz"
      ],
      "execution_count": null,
      "outputs": []
    },
    {
      "cell_type": "code",
      "metadata": {
        "trusted": true,
        "id": "f3YVTbaj7nkW"
      },
      "source": [
        "!gunzip 2020.csv.gz\n",
        "!gunzip 2019.csv.gz\n",
        "!gunzip 2018.csv.gz"
      ],
      "execution_count": null,
      "outputs": []
    },
    {
      "cell_type": "code",
      "metadata": {
        "trusted": true,
        "id": "LL6wthvh7nke"
      },
      "source": [
        "!gunzip 2017.csv.gz\n",
        "!gunzip 2016.csv.gz\n",
        "!gunzip 2015.csv.gz"
      ],
      "execution_count": null,
      "outputs": []
    },
    {
      "cell_type": "markdown",
      "metadata": {
        "id": "rPgGtetD7nkq"
      },
      "source": [
        "## 3. World Cities Data\n",
        "Data on 26000 cities inculding geo co-ordinates, country, and population. This data is available from https://simplemaps.com/data/world-cities"
      ]
    },
    {
      "cell_type": "code",
      "metadata": {
        "trusted": true,
        "id": "IDewpcuI7nks"
      },
      "source": [
        "!wget https://simplemaps.com/static/data/world-cities/basic/simplemaps_worldcities_basicv1.71.zip"
      ],
      "execution_count": null,
      "outputs": []
    },
    {
      "cell_type": "code",
      "metadata": {
        "trusted": true,
        "id": "ilwropUj7nk1"
      },
      "source": [
        "!unzip ./simplemaps_worldcities_basicv1.71.zip"
      ],
      "execution_count": null,
      "outputs": []
    },
    {
      "cell_type": "markdown",
      "metadata": {
        "id": "rzI1isbR7nk_"
      },
      "source": [
        "# II. Finding the closest weather station for each city\n",
        "\n",
        "1. We will use one helper function to calculate the Haversine distance between two points. We will use this function to calculate distances between each city and all other stations in the NOAA GHCN Station list. The function will return the 'ID' of the closest station and the distance between the city and station.\n",
        "\n",
        "2. We will limit our analysis to the top 2500 cities by population because of resource constraints of Kaggle Notebooks. For sure, the code below can be used for analysis of a larger number of cities as also custom lists of cities."
      ]
    },
    {
      "cell_type": "code",
      "metadata": {
        "trusted": true,
        "id": "xHyJFKC57nlB"
      },
      "source": [
        "from haversine import haversine\n",
        "\n",
        "def NearestStations(lat,long):\n",
        "    yo = stations\n",
        "    coords = (lat,long)\n",
        "    yo[\"Dist\"]= yo.COORDS.apply(lambda x: haversine(coords,x))\n",
        "    #yo.reset_index(inplace=True)\n",
        "    closest = yo.loc[yo[\"Dist\"].idxmin()]\n",
        "    return(str(closest.ID),float(closest.Dist))"
      ],
      "execution_count": null,
      "outputs": []
    },
    {
      "cell_type": "code",
      "metadata": {
        "trusted": true,
        "id": "3ivUwgpC7nlc"
      },
      "source": [
        "world_cities = pd.read_csv(\"worldcities.csv\")"
      ],
      "execution_count": null,
      "outputs": []
    },
    {
      "cell_type": "code",
      "metadata": {
        "trusted": true,
        "id": "BUfNdVuD7nl0"
      },
      "source": [
        "world_cities['Closest Station ID'], world_cities['Closest Station Distance'] = \\\n",
        "                            zip(*world_cities.progress_apply(lambda x: NearestStations(float(x['lat']),float(x['lng'])), axis=1))"
      ],
      "execution_count": null,
      "outputs": []
    },
    {
      "cell_type": "code",
      "metadata": {
        "trusted": true,
        "id": "PL9389pl7nl8"
      },
      "source": [
        "world_cities.to_csv(\"World Cities Nearest Stations.csv\")"
      ],
      "execution_count": null,
      "outputs": []
    },
    {
      "cell_type": "markdown",
      "metadata": {
        "id": "Xc-0UJA97nmD"
      },
      "source": [
        "# III. Extracting weather data for stations\n",
        "\n",
        "1. We will first extract the list of unique weather station from our list of top 2500 cities and their associated weather stations.\n",
        "\n",
        "2. Next we will iterate over each years weather data. \n",
        "\n",
        "3. In each iteration we will extract the data of only those stations appearing in our list. \n",
        "\n",
        "4. We will also transform the data to a more readable format using the pivot() function of pandas dataframe\n",
        "\n",
        "5. The final transformed data will be saved on file and yields our dataset."
      ]
    },
    {
      "cell_type": "code",
      "metadata": {
        "trusted": true,
        "id": "KczQr50_7nmE"
      },
      "source": [
        "stations_list = list(world_cities[\"Closest Station ID\"].unique())"
      ],
      "execution_count": null,
      "outputs": []
    },
    {
      "cell_type": "code",
      "metadata": {
        "trusted": true,
        "id": "jM0AgNHi7nmM"
      },
      "source": [
        "years = ['2015','2016','2017','2018','2019','2020']\n",
        "for y in years:\n",
        "    print(y)\n",
        "    weather_temp = pd.read_csv(y+\".csv\")\n",
        "    weather_temp.columns = ['ID','Date','Element','Value','A','B','C','D']\n",
        "    weather_temp2 = weather_temp[weather_temp.ID.isin(stations_list)]\n",
        "    wp = weather_temp2.pivot(index = [\"Date\",\"ID\"], columns = \"Element\", values=\"Value\")\n",
        "    wp.reset_index(inplace=True)\n",
        "    wp.to_csv(\"Weather all cities \"+y+\".csv\")"
      ],
      "execution_count": null,
      "outputs": []
    },
    {
      "cell_type": "code",
      "metadata": {
        "trusted": true,
        "id": "Xv2D8LzI7nmT"
      },
      "source": [
        "test = pd.read_csv(\"Weather all cities 2018.csv\")\n",
        "test[\"TAVG\"].tail()"
      ],
      "execution_count": null,
      "outputs": []
    },
    {
      "cell_type": "markdown",
      "metadata": {
        "id": "A-CzsYIY7nmb"
      },
      "source": [
        "# IV. Analysis\n",
        "\n",
        "## 1. Analysis of distance between cities and closest weather station\n",
        "\n",
        "i) About 50% of the cities have a weather station within a 7 kilometer range\n",
        "ii) About 60% of the cities have a station within a 15 kilometer range\n",
        "iii) Some cities don't seem to have any nearby stations on the NOAA list"
      ]
    },
    {
      "cell_type": "code",
      "metadata": {
        "trusted": true,
        "id": "SIhX8Y-w7nmc"
      },
      "source": [
        "world_cities[\"Closest Station Distance\"].describe()"
      ],
      "execution_count": null,
      "outputs": []
    },
    {
      "cell_type": "code",
      "metadata": {
        "trusted": true,
        "id": "hCf0svqZ7nmi"
      },
      "source": [
        "100*world_cities[world_cities[\"Closest Station Distance\"]<15].shape[0]/world_cities.shape[0]"
      ],
      "execution_count": null,
      "outputs": []
    },
    {
      "cell_type": "code",
      "metadata": {
        "trusted": true,
        "id": "DHAo1ZOU7nmo"
      },
      "source": [
        "hist = px.histogram(world_cities, \"Closest Station Distance\")\n",
        "hist.show()"
      ],
      "execution_count": null,
      "outputs": []
    },
    {
      "cell_type": "markdown",
      "metadata": {
        "id": "7DSVimCV7nmx"
      },
      "source": [
        "## 2. How many weather stations from our list were polled by NOAA for weather data?\n",
        "\n",
        "1. In each year between 2015-2020, NOAA GHCN collected data from about 53-57% of the stations in our list"
      ]
    },
    {
      "cell_type": "code",
      "metadata": {
        "trusted": true,
        "id": "FplezHFo7nmz"
      },
      "source": [
        "unique_stations_lists = []\n",
        "unique_stations_nos = []\n",
        "\n",
        "for y in years:\n",
        "    w = pd.read_csv(\"Weather all cities \"+y+\".csv\")\n",
        "    yo = list(w['ID'].unique())\n",
        "    yo_len = len(yo)\n",
        "    unique_stations_lists.append(yo)\n",
        "    unique_stations_nos.append(yo_len)\n",
        "\n",
        "unique_stations_all = sorted(set(sum(unique_stations_lists, []))) #ID of every station that was polled at least once \n",
        "\n",
        "total_unique_stations_nos = len(list(world_cities[\"Closest Station ID\"].unique()))\n",
        "unique_stations_percentages = [yo * 100/total_unique_stations_nos for yo in unique_stations_nos]\n",
        "\n",
        "Percentage_Stations_Polled = pd.DataFrame(list(zip(years, unique_stations_percentages)), columns=[\"Year\", \"Percentage of Stations Polled\"])"
      ],
      "execution_count": null,
      "outputs": []
    },
    {
      "cell_type": "code",
      "metadata": {
        "trusted": true,
        "id": "3KmO2WV47nnA"
      },
      "source": [
        "Percentage_Stations_Polled.head(6)"
      ],
      "execution_count": null,
      "outputs": []
    },
    {
      "cell_type": "code",
      "metadata": {
        "trusted": true,
        "id": "gsw8jER77nnJ"
      },
      "source": [
        "Cities_Not_Polled = world_cities[-(world_cities[\"Closest Station ID\"].isin(unique_stations_all))]\n",
        "Cities_Not_Polled.shape"
      ],
      "execution_count": null,
      "outputs": []
    },
    {
      "cell_type": "code",
      "metadata": {
        "trusted": true,
        "id": "Gk5oPtxT7nnU"
      },
      "source": [
        "Cities_Not_Polled[\"country\"].value_counts()"
      ],
      "execution_count": null,
      "outputs": []
    },
    {
      "cell_type": "code",
      "metadata": {
        "trusted": true,
        "id": "qa4Uc1NR7nne"
      },
      "source": [
        "Cities_Polled = world_cities[(world_cities[\"Closest Station ID\"].isin(unique_stations_all))]\n",
        "Cities_Polled.shape"
      ],
      "execution_count": null,
      "outputs": []
    },
    {
      "cell_type": "code",
      "metadata": {
        "trusted": true,
        "id": "PqkJLSzz7nnl"
      },
      "source": [
        "Cities_Not_Polled[\"country\"].value_counts()"
      ],
      "execution_count": null,
      "outputs": []
    }
  ]
}